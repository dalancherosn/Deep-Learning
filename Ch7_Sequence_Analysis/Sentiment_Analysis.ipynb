{
 "cells": [
  {
   "cell_type": "code",
   "execution_count": null,
   "metadata": {},
   "outputs": [],
   "source": [
    "import numpy as np"
   ]
  },
  {
   "cell_type": "code",
   "execution_count": 2,
   "metadata": {},
   "outputs": [
    {
     "name": "stdout",
     "output_type": "stream",
     "text": [
      "Processing c:\\users\\dalan\\appdata\\local\\pip\\cache\\wheels\\5f\\14\\2e\\1d8e28cc47a5a931a2fb82438c9e37ef9246cc6a3774520271\\tflearn-0.5.0-py3-none-any.whl\n",
      "Requirement already satisfied: six in c:\\users\\dalan\\anaconda3\\envs\\packages\\lib\\site-packages (from tflearn) (1.15.0)\n",
      "Collecting Pillow\n",
      "  Downloading Pillow-8.1.0-cp37-cp37m-win_amd64.whl (2.2 MB)\n",
      "Requirement already satisfied: numpy in c:\\users\\dalan\\anaconda3\\envs\\packages\\lib\\site-packages (from tflearn) (1.19.1)\n",
      "Installing collected packages: Pillow, tflearn\n",
      "Successfully installed Pillow-8.1.0 tflearn-0.5.0\n",
      "Note: you may need to restart the kernel to use updated packages.\n"
     ]
    }
   ],
   "source": [
    "pip install tflearn"
   ]
  },
  {
   "cell_type": "code",
   "execution_count": 3,
   "metadata": {},
   "outputs": [
    {
     "name": "stdout",
     "output_type": "stream",
     "text": [
      "WARNING:tensorflow:From C:\\Users\\dalan\\anaconda3\\envs\\Packages\\lib\\site-packages\\tensorflow_core\\python\\compat\\v2_compat.py:65: disable_resource_variables (from tensorflow.python.ops.variable_scope) is deprecated and will be removed in a future version.\n",
      "Instructions for updating:\n",
      "non-resource variables are not supported in the long term\n",
      "curses is not supported on this machine (please install/reinstall curses for an optimal experience)\n"
     ]
    }
   ],
   "source": [
    "from tflearn.data_utils import to_categorical, pad_sequences"
   ]
  },
  {
   "cell_type": "code",
   "execution_count": 4,
   "metadata": {},
   "outputs": [],
   "source": [
    "from tflearn.datasets import imdb"
   ]
  },
  {
   "cell_type": "code",
   "execution_count": 9,
   "metadata": {},
   "outputs": [
    {
     "name": "stdout",
     "output_type": "stream",
     "text": [
      "Downloading data from http://www.iro.umontreal.ca/~lisa/deep/data/imdb.pkl\n"
     ]
    }
   ],
   "source": [
    "train, test, _ = imdb.load_data(path = 'C:/Users/dalan/anaconda3/envs/Packages/Lib/site-packages/tflearn/datasets/imdb.pkl',\n",
    "                               n_words = 30000,\n",
    "                               valid_portion = 0.1)"
   ]
  },
  {
   "cell_type": "code",
   "execution_count": 10,
   "metadata": {},
   "outputs": [],
   "source": [
    "trainX, trainY = train\n",
    "testX, testY = test"
   ]
  },
  {
   "cell_type": "code",
   "execution_count": 11,
   "metadata": {},
   "outputs": [],
   "source": [
    "trainX = pad_sequences(trainX, maxlen = 500, value = 0.)\n",
    "testX = pad_sequences(testX, maxlen = 500, value = 0.)"
   ]
  },
  {
   "cell_type": "code",
   "execution_count": 12,
   "metadata": {},
   "outputs": [],
   "source": [
    "trainY = to_categorical(trainY, nb_classes = 2)\n",
    "testY = to_categorical(testY, nb_classes = 2)"
   ]
  },
  {
   "cell_type": "code",
   "execution_count": 24,
   "metadata": {},
   "outputs": [],
   "source": [
    "class IMDBDataset():\n",
    "    def __init__(self, X, Y):\n",
    "        self.num_examples = len(X)\n",
    "        self.inputs = X\n",
    "        self.tags = Y\n",
    "        self.ptr = 0\n",
    "        \n",
    "    def minibatch(self, size):\n",
    "        ret = None\n",
    "        if self.ptr + size < len(self.inputs):\n",
    "            ret = (self.inputs[self.ptr : self.ptr + size],\n",
    "                  self.tags[self.ptr : self.ptr + size])\n",
    "        else:\n",
    "            ret = (np.concatenate((self.inputs[self.ptr:],\n",
    "                                  self.inputs[:size - len(\n",
    "                                  self.inputs[self.ptr :])])),\n",
    "                  np.concatenate((self.tags[selft.ptr :],\n",
    "                                  self.tags[:size - len(\n",
    "                                  self.tags[self.ptr:])])))\n",
    "        self.ptr = (self.ptr + size) % len(self.inputs)\n",
    "        \n",
    "        return ret"
   ]
  },
  {
   "cell_type": "code",
   "execution_count": 25,
   "metadata": {},
   "outputs": [],
   "source": [
    "train = IMDBDataset(trainX, trainY)\n",
    "val = IMDBDataset(testX, testY)"
   ]
  },
  {
   "cell_type": "code",
   "execution_count": null,
   "metadata": {},
   "outputs": [],
   "source": []
  }
 ],
 "metadata": {
  "kernelspec": {
   "display_name": "Python 3",
   "language": "python",
   "name": "python3"
  },
  "language_info": {
   "codemirror_mode": {
    "name": "ipython",
    "version": 3
   },
   "file_extension": ".py",
   "mimetype": "text/x-python",
   "name": "python",
   "nbconvert_exporter": "python",
   "pygments_lexer": "ipython3",
   "version": "3.7.7"
  }
 },
 "nbformat": 4,
 "nbformat_minor": 4
}
