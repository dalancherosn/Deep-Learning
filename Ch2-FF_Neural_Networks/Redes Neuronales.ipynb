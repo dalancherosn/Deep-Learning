{
 "cells": [
  {
   "cell_type": "markdown",
   "metadata": {},
   "source": [
    "# Implementación de Redes Neuronales "
   ]
  },
  {
   "cell_type": "markdown",
   "metadata": {},
   "source": [
    "El presente cuaderno tiene como finalidad los siguientes objetivos:\n",
    "\n",
    "- Profundizar el entendimiento del algoritmo de *Back-propagation* para el entrenamiento de Redes Neuronales densas.\n",
    "- Explorar los mecanismos para evitar el *Overfitting* del algoritmo mediante los métodos **L2**, **L1** y **Dropout**."
   ]
  },
  {
   "cell_type": "markdown",
   "metadata": {},
   "source": [
    "## El algoritmo de *Back propagation*"
   ]
  },
  {
   "cell_type": "markdown",
   "metadata": {},
   "source": [
    "El primer paso es importar las librerías que necesitamos:"
   ]
  },
  {
   "cell_type": "code",
   "execution_count": 1,
   "metadata": {},
   "outputs": [],
   "source": [
    "from numpy import array, zeros, exp, random, dot, shape, reshape, meshgrid, linspace, transpose\n",
    "\n",
    "import matplotlib.pyplot as plt # for plotting\n",
    "import matplotlib\n",
    "matplotlib.rcParams['figure.dpi'] = 300 # High resolution display"
   ]
  },
  {
   "cell_type": "markdown",
   "metadata": {},
   "source": [
    "El siguiente paso sería el de obtener las funciones preliminares necesarias para poder implementar el algoritmo:"
   ]
  },
  {
   "cell_type": "code",
   "execution_count": 2,
   "metadata": {},
   "outputs": [],
   "source": [
    "def net_f_df(z): # Calcula la función de activación f(z) y su derivada f'(z)\n",
    "    val = 1 / (1 + exp(-z)) # sigmoid\n",
    "    return ( val, exp(-z)*(val ** 2) ) "
   ]
  },
  {
   "cell_type": "code",
   "execution_count": 3,
   "metadata": {},
   "outputs": [],
   "source": [
    "def forward_step(y, w, b):\n",
    "    \"\"\"\n",
    "    Calcula los valores de la siguiente capa (layer) dados:\n",
    "        y: Vector de la capa anterior a la capa que se va a calacular.\n",
    "        w: Matriz de pesos (weights) utilizados que conectan las dos capas.\n",
    "        b: vector de sesgos (bias)\n",
    "    \"\"\"\n",
    "    z = dot(y, w) + b\n",
    "    return (net_f_df(z)) # Aplica la no-linealidad y retorna el resultado."
   ]
  },
  {
   "cell_type": "markdown",
   "metadata": {},
   "source": [
    "El algoritmo de *Back-propagation* afirma que:\n",
    "\n",
    "$$\\frac{\\partial E}{\\partial y_{i}}=\\sum_{j}w_{ij}y_{j}\\left(1-y_{j}\\right)\\frac{\\partial E}{\\partial y_{j}}$$\n",
    "\n",
    "Mientras que la actualización de los valores de los pesos, determinado por el algoritmo de *Gradient Descent* sigue la regla:\n",
    "\n",
    "$$\\Delta w_{ij} = -\\sum_{k\\in\\text{dataset}}\\alpha y_{i}^{(k)}y_{j}^{(k)}\\left(1-y_{j}^{(k)}\\right)\\frac{\\partial E^{(k)}}{\\partial y_{j}^{(k)}}$$"
   ]
  },
  {
   "cell_type": "code",
   "execution_count": 4,
   "metadata": {},
   "outputs": [],
   "source": [
    "def apply_net(y_in):\n",
    "    \"\"\"\n",
    "    Realiza un cálculo en toda la red neuronal con un ejemplo de entrenamiento y_in\n",
    "    \"\"\"\n",
    "    global Weights, Biases, NumLayers \n",
    "    global y_layer, df_layer # para almacenar y-valores y df/dz valores\n",
    "    \n",
    "    y = y_in # Empezamos con los valores de entrada\n",
    "    y_layer[0] = y\n",
    "    \n",
    "    for j in range(NumLayers): # loop en el número de capas\n",
    "        # j = 0 corresponde a la primera capa por encima de la capa de entrada\n",
    "        y, df = forward_step(y, Weights[j], Biases[j]) # Un paso\n",
    "        df_layer[j] = df # Almacena f'(z) [utilizado posteriormente en el algoritmo de Back propagation]\n",
    "        y_layer[j+1] = y # Almacena f(z) [también utilizado en el algoritmo]\n",
    "        return y"
   ]
  },
  {
   "cell_type": "code",
   "execution_count": null,
   "metadata": {},
   "outputs": [],
   "source": []
  }
 ],
 "metadata": {
  "kernelspec": {
   "display_name": "Python 3",
   "language": "python",
   "name": "python3"
  },
  "language_info": {
   "codemirror_mode": {
    "name": "ipython",
    "version": 3
   },
   "file_extension": ".py",
   "mimetype": "text/x-python",
   "name": "python",
   "nbconvert_exporter": "python",
   "pygments_lexer": "ipython3",
   "version": "3.7.7"
  }
 },
 "nbformat": 4,
 "nbformat_minor": 4
}
